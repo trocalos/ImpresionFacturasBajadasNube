{
  "nbformat": 4,
  "nbformat_minor": 0,
  "metadata": {
    "colab": {
      "provenance": [],
      "authorship_tag": "ABX9TyOmrfv8MNh1mAejB+td314j",
      "include_colab_link": true
    },
    "kernelspec": {
      "name": "python3",
      "display_name": "Python 3"
    },
    "language_info": {
      "name": "python"
    }
  },
  "cells": [
    {
      "cell_type": "markdown",
      "metadata": {
        "id": "view-in-github",
        "colab_type": "text"
      },
      "source": [
        "<a href=\"https://colab.research.google.com/github/trocalos/ImpresionFacturasBajadasNube/blob/main/funcion1.ipynb\" target=\"_parent\"><img src=\"https://colab.research.google.com/assets/colab-badge.svg\" alt=\"Open In Colab\"/></a>"
      ]
    },
    {
      "cell_type": "code",
      "execution_count": 6,
      "metadata": {
        "colab": {
          "base_uri": "https://localhost:8080/"
        },
        "id": "9wYeuqkyZDeq",
        "outputId": "b2032be5-52a8-4e47-befb-2ea223fb3543"
      },
      "outputs": [
        {
          "output_type": "stream",
          "name": "stdout",
          "text": [
            "Programa para calcular la diagonal de un cuadrado\n",
            "la diagonal de un cuadrado de lado 1 es 1.4142135623730951\n",
            "la diagonal de un cuadrado de lado 4 es 5.656854249492381\n"
          ]
        }
      ],
      "source": [
        "from math import sqrt\n",
        "print(\"Programa para calcular la diagonal de un cuadrado\")\n",
        "def diagonal(lado):\n",
        "  valor=sqrt(2*lado*lado)\n",
        "  return valor\n",
        "print(\"la diagonal de un cuadrado de lado\",1,\"es\",diagonal(1))\n",
        "print(\"la diagonal de un cuadrado de lado\",4,\"es\",diagonal(4))"
      ]
    }
  ]
}